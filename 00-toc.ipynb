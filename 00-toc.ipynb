{
 "cells": [
  {
   "cell_type": "markdown",
   "metadata": {},
   "source": [
    "# Security Data Analytics and Visualisation\n",
    "\n",
    "This is the companion textbook for the Security Data Analytics and Visualisation module, taught by \n",
    "Dr. Andrew McCarthy\n",
    "at the University of the West of England (UWE Bristol), UK. The original book was prepared by Prof. Phil Legg (UWE Bristol) in Autumn 2020, and was updated to Jupyter Books in Autumn 2021. The second edition of the book is currently in revision for the 2024-25 academic term.\n",
    "\n",
    "![](https://images.livemint.com/rf/Image-621x414/LiveMint/Period2/2018/12/20/Photos/Opinion/cybersecurity-istockphoto-kqv--621x414@LiveMint.jpg)\n",
    "\n",
    "## How to use this learning resource\n",
    "\n",
    "This book serves as the pre-session material for the module, where students are expected to engage with each chapter before the in-class discussion session. Each chapter can obviously be read, or alternatively, you can use narration tools to read the content aloud for you to listen to. Many web browsers have these tools built in now, such as the [Microsoft Edge Immersive Reader](https://support.microsoft.com/en-us/topic/use-immersive-reader-in-microsoft-edge-78a7a17d-52e1-47ee-b0ac-eff8539015e1). Audio recordings of each chapter are also available from the course web page. \n",
    "\n",
    "You are advised to listen and read each chapter more than once, to reinforce the concepts that are discussed in each chapter. Furthermore, each chapter consists of hyperlinks that will allow you to discover more - which you should follow and explore. Finally, each section includes further reading, including recommended academic papers, blog articles, or videos, that will help enrich your broader understanding. You are encouraged to navigate this as part of your self-study allocation, to get the most out of the in-class discussions each week."
   ]
  },
  {
   "cell_type": "code",
   "execution_count": null,
   "metadata": {},
   "outputs": [],
   "source": []
  }
 ],
 "metadata": {
  "kernelspec": {
   "display_name": "Python 3 (ipykernel)",
   "language": "python",
   "name": "python3"
  },
  "language_info": {
   "codemirror_mode": {
    "name": "ipython",
    "version": 3
   },
   "file_extension": ".py",
   "mimetype": "text/x-python",
   "name": "python",
   "nbconvert_exporter": "python",
   "pygments_lexer": "ipython3",
   "version": "3.11.5"
  },
  "widgets": {
   "application/vnd.jupyter.widget-state+json": {
    "state": {},
    "version_major": 2,
    "version_minor": 0
   }
  }
 },
 "nbformat": 4,
 "nbformat_minor": 4
}
